{
 "cells": [
  {
   "cell_type": "code",
   "execution_count": 15,
   "metadata": {},
   "outputs": [],
   "source": [
    "from langchain_community.vectorstores import FAISS\n",
    "from langchain_openai import OpenAIEmbeddings, ChatOpenAI\n",
    "from langchain.chains import RetrievalQA\n",
    "from langchain.schema import Document\n",
    "import json, os\n",
    "from pathlib import Path"
   ]
  },
  {
   "cell_type": "code",
   "execution_count": null,
   "metadata": {},
   "outputs": [],
   "source": [
    "os.environ[\"OPENAI_API_KEY\"] = 'sk-.....'"
   ]
  },
  {
   "cell_type": "code",
   "execution_count": 16,
   "metadata": {},
   "outputs": [],
   "source": [
    "articles_folder = Path('data/www.pointscrowd.com')\n",
    "documents = []\n",
    "for file_path in articles_folder.rglob('*.txt'):\n",
    "    with open(file_path, 'r') as file:\n",
    "        content = file.read()\n",
    "        documents.append(Document(page_content=content))"
   ]
  },
  {
   "cell_type": "code",
   "execution_count": 17,
   "metadata": {},
   "outputs": [],
   "source": [
    "db = FAISS.from_documents(documents, OpenAIEmbeddings())\n",
    "db.save_local('model')"
   ]
  },
  {
   "cell_type": "code",
   "execution_count": 18,
   "metadata": {},
   "outputs": [],
   "source": [
    "retriever = db.as_retriever()\n",
    "llm = ChatOpenAI(temperature=0, model=\"gpt-4o-mini\")"
   ]
  },
  {
   "cell_type": "code",
   "execution_count": 19,
   "metadata": {},
   "outputs": [],
   "source": [
    "qa = RetrievalQA.from_chain_type(\n",
    "    llm=llm,\n",
    "    chain_type=\"stuff\",\n",
    "    retriever=retriever,\n",
    "    return_source_documents=True\n",
    ")"
   ]
  },
  {
   "cell_type": "code",
   "execution_count": 21,
   "metadata": {},
   "outputs": [
    {
     "name": "stdout",
     "output_type": "stream",
     "text": [
      "Delta lounges, known as Delta Sky Clubs, offer travelers a premium experience with various amenities, including complimentary food and beverages, comfortable seating, and a quiet environment to relax or work before flights. Access to these lounges is available through membership, certain credit card benefits, or by flying in specified premium cabins. \n",
      "\n",
      "Recent updates to Delta Sky Club access policies have made it more exclusive, with changes to membership costs and eligibility requirements. For example, as of January 1, 2024, travelers with Basic Economy tickets will no longer have access to the lounges. Additionally, the cost of individual and executive memberships has increased.\n",
      "\n",
      "For more detailed information, you can visit the source: [Delta Sky Club Changes 2023-2024](https://www.pointscrowd.com/blog/delta-sky-club-updates-nov-2022/)\n"
     ]
    }
   ],
   "source": [
    "# query = \"What's the fastest way to achieve Marriott Bonvoy elite status?\"\n",
    "query = \"What do you know about Delta lounges? provide the link to the source\"\n",
    "response = qa.invoke(query)\n",
    "print(response.get('result'))"
   ]
  }
 ],
 "metadata": {
  "kernelspec": {
   "display_name": "chatbot_demo_venv",
   "language": "python",
   "name": "python3"
  },
  "language_info": {
   "name": "python",
   "version": "3.13.0"
  }
 },
 "nbformat": 4,
 "nbformat_minor": 2
}
